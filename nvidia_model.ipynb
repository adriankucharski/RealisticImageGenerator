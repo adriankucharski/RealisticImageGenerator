{
 "cells": [
  {
   "cell_type": "code",
   "execution_count": 1,
   "metadata": {},
   "outputs": [],
   "source": [
    "from matplotlib import pyplot as plt\n",
    "import numpy as np\n",
    "\n",
    "data = np.load('data/lhq_256/24_classes_rbg.npy')\n"
   ]
  },
  {
   "cell_type": "code",
   "execution_count": 10,
   "metadata": {},
   "outputs": [
    {
     "data": {
      "text/plain": [
       "(25, 3)"
      ]
     },
     "execution_count": 10,
     "metadata": {},
     "output_type": "execute_result"
    }
   ],
   "source": [
    "np.unique(data[:760].reshape((-1, 3)), axis=0).shape"
   ]
  },
  {
   "cell_type": "code",
   "execution_count": null,
   "metadata": {},
   "outputs": [],
   "source": [
    "from transformers import SegformerFeatureExtractor, SegformerForSemanticSegmentation\n",
    "from skimage import io, transform, color\n",
    "import requests\n",
    "import numpy as np\n",
    "import matplotlib.pyplot as plt\n",
    "from glob import glob\n",
    "from typing import List\n",
    "from dataset import parse_csv\n",
    "from tqdm import tqdm\n",
    "feature_extractor = SegformerFeatureExtractor.from_pretrained(\"nvidia/segformer-b0-finetuned-ade-512-512\")\n",
    "model = SegformerForSemanticSegmentation.from_pretrained(\"nvidia/segformer-b0-finetuned-ade-512-512\")"
   ]
  },
  {
   "cell_type": "code",
   "execution_count": null,
   "metadata": {},
   "outputs": [],
   "source": [
    "\"\"\"\n",
    "150 classes\n",
    "we need:\n",
    "1. sky (2)\n",
    "2. tree (4)\n",
    "3. grass (9)\n",
    "4. earth;ground (13)\n",
    "5. mountain;mount (16)\n",
    "6. plant;flora;plant;life (17)\n",
    "7. sea (27)\n",
    "8. \n",
    "\"\"\"\n",
    "\n",
    "def image_to_mask(images, model, feature_extractor) -> List[np.ndarray]:\n",
    "    inputs = feature_extractor(images=images, return_tensors=\"pt\")\n",
    "    outputs = model(**inputs)\n",
    "    logits = outputs.logits\n",
    "    data: np.ndarray = np.array(logits.detach().numpy()).transpose((0, 2, 3, 1))\n",
    "    image_mask = np.argmax(data, axis=-1, keepdims=True)\n",
    "    return image_mask.astype(np.uint8)\n",
    "\n",
    "def read_images(paths):\n",
    "    return [io.imread(p) for p in paths]\n",
    "\n",
    "classes = parse_csv()\n",
    "\n",
    "files = glob('./data/lhq_256/images/*.png')\n",
    "batch = 64\n",
    "for i in tqdm(range(0, len(files), batch)):\n",
    "    paths = files[i:i+batch]\n",
    "    images = [io.imread(p) for p in paths]\n",
    "    masks = image_to_mask(images, model, feature_extractor)\n",
    "    for k in range(len(masks)):\n",
    "        name = paths[k].replace('images', 'annotations_128')\n",
    "        io.imsave(name, masks[k], check_contrast=False)"
   ]
  },
  {
   "cell_type": "code",
   "execution_count": null,
   "metadata": {},
   "outputs": [],
   "source": [
    "import multiprocessing\n",
    "import itertools\n",
    "from typing import List\n",
    "import numpy as np\n",
    "import pandas as pd\n",
    "from glob import glob\n",
    "\n",
    "def parse_csv(path: str = 'data/ADE20K/included_classes.csv', sep: str = ';'):\n",
    "    csv = pd.read_csv(path, sep=sep)\n",
    "    classes = {}\n",
    "    for index, (name, inc) in enumerate(zip(csv['Name'], csv['Include'])):\n",
    "        if inc:\n",
    "            classes[name] = index\n",
    "    return classes    \n",
    "\n",
    "\n",
    "\n",
    "if __name__ == '__main__':\n",
    "    classes = parse_csv()\n"
   ]
  },
  {
   "cell_type": "code",
   "execution_count": null,
   "metadata": {},
   "outputs": [],
   "source": [
    "import keras.backend as K\n",
    "d = K.variable([1, 1, 10])\n",
    "K.set_value(d, [1, 1, 4])\n",
    "d"
   ]
  }
 ],
 "metadata": {
  "kernelspec": {
   "display_name": "Python 3",
   "language": "python",
   "name": "python3"
  },
  "language_info": {
   "codemirror_mode": {
    "name": "ipython",
    "version": 3
   },
   "file_extension": ".py",
   "mimetype": "text/x-python",
   "name": "python",
   "nbconvert_exporter": "python",
   "pygments_lexer": "ipython3",
   "version": "3.10.10"
  },
  "orig_nbformat": 4
 },
 "nbformat": 4,
 "nbformat_minor": 2
}
